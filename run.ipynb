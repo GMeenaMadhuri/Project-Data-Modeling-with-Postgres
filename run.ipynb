{
 "cells": [
  {
   "cell_type": "code",
   "execution_count": 1,
   "metadata": {
    "editable": true
   },
   "outputs": [],
   "source": [
    "!python create_tables.py"
   ]
  },
  {
   "cell_type": "code",
   "execution_count": 2,
   "metadata": {
    "editable": true
   },
   "outputs": [
    {
     "name": "stdout",
     "output_type": "stream",
     "text": [
      "81 files found in data/song_data\n",
      "1/81 files processed.\n",
      "2/81 files processed.\n",
      "3/81 files processed.\n",
      "4/81 files processed.\n",
      "5/81 files processed.\n",
      "6/81 files processed.\n",
      "7/81 files processed.\n",
      "8/81 files processed.\n",
      "9/81 files processed.\n",
      "10/81 files processed.\n",
      "11/81 files processed.\n",
      "12/81 files processed.\n",
      "13/81 files processed.\n",
      "14/81 files processed.\n",
      "15/81 files processed.\n",
      "16/81 files processed.\n",
      "17/81 files processed.\n",
      "18/81 files processed.\n",
      "19/81 files processed.\n",
      "20/81 files processed.\n",
      "21/81 files processed.\n",
      "22/81 files processed.\n",
      "23/81 files processed.\n",
      "24/81 files processed.\n",
      "25/81 files processed.\n",
      "26/81 files processed.\n",
      "27/81 files processed.\n",
      "28/81 files processed.\n",
      "29/81 files processed.\n",
      "30/81 files processed.\n",
      "31/81 files processed.\n",
      "32/81 files processed.\n",
      "33/81 files processed.\n",
      "34/81 files processed.\n",
      "35/81 files processed.\n",
      "36/81 files processed.\n",
      "37/81 files processed.\n",
      "38/81 files processed.\n",
      "39/81 files processed.\n",
      "40/81 files processed.\n",
      "41/81 files processed.\n",
      "42/81 files processed.\n",
      "43/81 files processed.\n",
      "44/81 files processed.\n",
      "45/81 files processed.\n",
      "46/81 files processed.\n",
      "47/81 files processed.\n",
      "48/81 files processed.\n",
      "49/81 files processed.\n",
      "50/81 files processed.\n",
      "51/81 files processed.\n",
      "52/81 files processed.\n",
      "53/81 files processed.\n",
      "54/81 files processed.\n",
      "55/81 files processed.\n",
      "56/81 files processed.\n",
      "57/81 files processed.\n",
      "58/81 files processed.\n",
      "59/81 files processed.\n",
      "60/81 files processed.\n",
      "61/81 files processed.\n",
      "62/81 files processed.\n",
      "63/81 files processed.\n",
      "64/81 files processed.\n",
      "65/81 files processed.\n",
      "66/81 files processed.\n",
      "67/81 files processed.\n",
      "68/81 files processed.\n",
      "69/81 files processed.\n",
      "70/81 files processed.\n",
      "71/81 files processed.\n",
      "72/81 files processed.\n",
      "73/81 files processed.\n",
      "74/81 files processed.\n",
      "75/81 files processed.\n",
      "76/81 files processed.\n",
      "77/81 files processed.\n",
      "78/81 files processed.\n",
      "79/81 files processed.\n",
      "80/81 files processed.\n",
      "81/81 files processed.\n",
      "32 files found in data/log_data\n",
      "1/32 files processed.\n",
      "2/32 files processed.\n",
      "3/32 files processed.\n",
      "4/32 files processed.\n",
      "5/32 files processed.\n",
      "6/32 files processed.\n",
      "7/32 files processed.\n",
      "8/32 files processed.\n",
      "9/32 files processed.\n",
      "10/32 files processed.\n",
      "11/32 files processed.\n",
      "12/32 files processed.\n",
      "13/32 files processed.\n",
      "14/32 files processed.\n",
      "15/32 files processed.\n",
      "16/32 files processed.\n",
      "17/32 files processed.\n",
      "18/32 files processed.\n",
      "19/32 files processed.\n",
      "20/32 files processed.\n",
      "21/32 files processed.\n",
      "22/32 files processed.\n",
      "23/32 files processed.\n",
      "24/32 files processed.\n",
      "25/32 files processed.\n",
      "26/32 files processed.\n",
      "27/32 files processed.\n",
      "28/32 files processed.\n",
      "29/32 files processed.\n",
      "30/32 files processed.\n",
      "31/32 files processed.\n",
      "32/32 files processed.\n"
     ]
    }
   ],
   "source": [
    "!python etl.py"
   ]
  },
  {
   "cell_type": "code",
   "execution_count": null,
   "metadata": {
    "editable": true
   },
   "outputs": [],
   "source": []
  }
 ],
 "metadata": {
  "kernelspec": {
   "display_name": "Python 3",
   "language": "python",
   "name": "python3"
  },
  "language_info": {
   "codemirror_mode": {
    "name": "ipython",
    "version": 3
   },
   "file_extension": ".py",
   "mimetype": "text/x-python",
   "name": "python",
   "nbconvert_exporter": "python",
   "pygments_lexer": "ipython3",
   "version": "3.6.3"
  }
 },
 "nbformat": 4,
 "nbformat_minor": 4
}
